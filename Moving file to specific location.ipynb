{
 "cells": [
  {
   "cell_type": "markdown",
   "id": "2f3b116d-3a84-421e-9546-eb8ff48a00dd",
   "metadata": {},
   "source": [
    "## Importing Library"
   ]
  },
  {
   "cell_type": "code",
   "execution_count": 1,
   "id": "2bf4247b-67ed-41dc-8a14-dce782cc7ca2",
   "metadata": {},
   "outputs": [],
   "source": [
    "import os"
   ]
  },
  {
   "cell_type": "code",
   "execution_count": 6,
   "id": "5d1ccfef-89b8-46c1-986b-721dfff27e0a",
   "metadata": {},
   "outputs": [],
   "source": [
    "path=r'C:\\Users\\Dipes\\Downloads\\A1' #Seeting the path where files are located"
   ]
  },
  {
   "cell_type": "code",
   "execution_count": 3,
   "id": "02b7ca7d-11f5-4ebc-9104-640c7a2ed37a",
   "metadata": {},
   "outputs": [],
   "source": [
    "os.chdir(r'C:\\Users\\Dipes\\Downloads\\A1') #Changing directory"
   ]
  },
  {
   "cell_type": "code",
   "execution_count": 4,
   "id": "1a5db34c-d915-42ac-aacc-28140defe5f6",
   "metadata": {},
   "outputs": [],
   "source": [
    "cwd=os.getcwd() #Getting current Directory"
   ]
  },
  {
   "cell_type": "code",
   "execution_count": 5,
   "id": "dc210a56-f987-41d3-be22-413cb521ca7c",
   "metadata": {},
   "outputs": [
    {
     "name": "stdout",
     "output_type": "stream",
     "text": [
      "year could not be converted \n"
     ]
    }
   ],
   "source": [
    "for each in os.listdir(path):#listing the files\n",
    "    year=each.split(\".\")[0][5:] #extracting the year from filename\n",
    "    try:\n",
    "        int(year)\n",
    "    except:\n",
    "        print(\"year could not be converted \")\n",
    "        continue\n",
    "    if os.path.isdir(year)==False:\n",
    "        os.mkdir(year)\n",
    "    os.rename(each,os.path.join(cwd,year,each)) #moving the file to the respective year folder"
   ]
  },
  {
   "cell_type": "code",
   "execution_count": null,
   "id": "3dda581c-0033-4976-add1-fa889205877b",
   "metadata": {},
   "outputs": [],
   "source": []
  }
 ],
 "metadata": {
  "kernelspec": {
   "display_name": "Python 3 (ipykernel)",
   "language": "python",
   "name": "python3"
  },
  "language_info": {
   "codemirror_mode": {
    "name": "ipython",
    "version": 3
   },
   "file_extension": ".py",
   "mimetype": "text/x-python",
   "name": "python",
   "nbconvert_exporter": "python",
   "pygments_lexer": "ipython3",
   "version": "3.8.16"
  }
 },
 "nbformat": 4,
 "nbformat_minor": 5
}
